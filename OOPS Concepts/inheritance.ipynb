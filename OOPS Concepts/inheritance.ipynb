{
 "cells": [
  {
   "cell_type": "markdown",
   "metadata": {},
   "source": [
    "Inheritance: Inherit attributes and methods from another class.\n",
    "Single Inheritance, Multiple Inheritance\n"
   ]
  },
  {
   "cell_type": "code",
   "execution_count": 5,
   "metadata": {},
   "outputs": [
    {
     "name": "stdout",
     "output_type": "stream",
     "text": [
      "The person will drive the Petrol Car\n",
      "BMW supports self driving : False\n",
      "The person will drive the Petrol Car\n"
     ]
    }
   ],
   "source": [
    "class Car:\n",
    "    def __init__(self, windows, doors, enginetype):\n",
    "        self.windows=windows\n",
    "        self.doors=doors\n",
    "        self.enginetype=enginetype\n",
    "\n",
    "    def drive(self):\n",
    "        print(f\"The person will drive the {self.enginetype} Car\")\n",
    "\n",
    "car1=Car(4,5,\"Petrol\")\n",
    "car1.drive()\n",
    "\n",
    "class Bmw(Car):\n",
    "    def __init__(self, windows, doors, enginetype, is_selfdriving):\n",
    "        super().__init__(windows, doors, enginetype)\n",
    "        self.is_selfdriving=is_selfdriving\n",
    "\n",
    "    def selfdriving(self):\n",
    "        print(f\"BMW supports self driving : {self.is_selfdriving}\")\n",
    "\n",
    "bmw1=Bmw(4,5,\"Petrol\",False)\n",
    "bmw1.selfdriving()\n",
    "bmw1.drive()"
   ]
  },
  {
   "cell_type": "code",
   "execution_count": 6,
   "metadata": {},
   "outputs": [
    {
     "name": "stdout",
     "output_type": "stream",
     "text": [
      "Puppy say woof\n"
     ]
    }
   ],
   "source": [
    "# Multiple Inheritance\n",
    "# Base Class 1\n",
    "class Animal:\n",
    "    def __init__(self, name) -> None:\n",
    "        self.name=name\n",
    "\n",
    "    def speak(self):\n",
    "        print(\"Subclass must implement this method\")\n",
    "\n",
    "## Base Class 2\n",
    "class Pet:\n",
    "    def __init__(self, owner) -> None:\n",
    "        self.owner=owner\n",
    "\n",
    "## Derived Class\n",
    "class Dog(Animal, Pet):\n",
    "    def __init__(self, name, owner) -> None:\n",
    "        Animal.__init__(self, name)\n",
    "        Pet.__init__(self, owner)\n",
    "\n",
    "    def speak(self):\n",
    "        return f\"{self.name} say woof\"\n",
    "    \n",
    "dog=Dog(\"Puppy\", \"Abc\")\n",
    "print(dog.speak())\n"
   ]
  }
 ],
 "metadata": {
  "kernelspec": {
   "display_name": ".venv",
   "language": "python",
   "name": "python3"
  },
  "language_info": {
   "codemirror_mode": {
    "name": "ipython",
    "version": 3
   },
   "file_extension": ".py",
   "mimetype": "text/x-python",
   "name": "python",
   "nbconvert_exporter": "python",
   "pygments_lexer": "ipython3",
   "version": "3.10.4"
  }
 },
 "nbformat": 4,
 "nbformat_minor": 2
}
